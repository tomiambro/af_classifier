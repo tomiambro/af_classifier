{
 "cells": [
  {
   "cell_type": "markdown",
   "metadata": {},
   "source": [
    "# Single label Classifier - AF Detection\n",
    "\n",
    "Using the dataset provided by the 2020 Physionet Challenge we've developed an Atrial Fibrilation Detector trained to identify AF diagnosed patients from a dataset containing patients with different pathologies like: PAC, RBBB, I-AVB, PVC, LBBB, STD, STE and healthy individuals.\n",
    "\n",
    "Although data from 12-lead ECG was provided, for this first analysis we've only used the lead 2 data and we've processed the signals in order to create a dataframe consisting of features we believe will help us classify.\n"
   ]
  },
  {
   "cell_type": "code",
   "execution_count": 1,
   "metadata": {
    "scrolled": true
   },
   "outputs": [],
   "source": [
    "import sys\n",
    "import os\n",
    "import subprocess\n",
    "from urllib.parse import urlparse\n",
    "\n",
    "import pandas as pd\n",
    "import numpy as np\n",
    "%matplotlib inline\n",
    "import matplotlib.pyplot as plt\n",
    "import scipy\n",
    "\n",
    "from sklearn.ensemble import RandomForestClassifier\n",
    "from sklearn.linear_model import LogisticRegression\n",
    "from sklearn.neural_network import MLPClassifier\n",
    "from sklearn.neighbors import KNeighborsClassifier\n",
    "from sklearn.svm import SVC\n",
    "from IPython.display import display\n",
    "\n",
    "from scipy.cluster import hierarchy as hc\n",
    "from sklearn import metrics\n",
    "from sklearn.metrics import f1_score, fbeta_score, make_scorer, confusion_matrix, roc_auc_score, recall_score, precision_score\n",
    "from sklearn.preprocessing import StandardScaler, MinMaxScaler, PolynomialFeatures, label_binarize\n",
    "from sklearn.model_selection import train_test_split, GridSearchCV, cross_val_score\n",
    "from sklearn.decomposition import PCA, KernelPCA\n",
    "from sklearn.manifold import TSNE\n",
    "from sklearn.discriminant_analysis import LinearDiscriminantAnalysis\n",
    "\n",
    "import mlflow\n",
    "import mlflow.sklearn\n",
    "\n",
    "%matplotlib inline\n",
    "import plotly.express as px\n",
    "import seaborn as sns"
   ]
  },
  {
   "cell_type": "code",
   "execution_count": 2,
   "metadata": {},
   "outputs": [],
   "source": [
    "experiment_id = mlflow.set_experiment('features_definitivas')"
   ]
  },
  {
   "cell_type": "code",
   "execution_count": 3,
   "metadata": {},
   "outputs": [
    {
     "data": {
      "text/plain": [
       "CompletedProcess(args='rm -rf mlruns/.trash/*', returncode=0)"
      ]
     },
     "execution_count": 3,
     "metadata": {},
     "output_type": "execute_result"
    }
   ],
   "source": [
    "subprocess.run('rm -rf mlruns/.trash/*', shell=True, check=True)"
   ]
  },
  {
   "cell_type": "code",
   "execution_count": 4,
   "metadata": {},
   "outputs": [
    {
     "data": {
      "text/plain": [
       "Index(['HRV_RMSSD', 'HRV_MeanNN', 'HRV_SDNN', 'HRV_SDSD', 'HRV_pNN50',\n",
       "       'HRV_pNN20', 'HRV_HTI', 'var_P_time', 'var_P_peaks', 'age', 'label'],\n",
       "      dtype='object')"
      ]
     },
     "execution_count": 4,
     "metadata": {},
     "output_type": "execute_result"
    }
   ],
   "source": [
    "lead = 'HRV-lead2'\n",
    "df_raw = pd.read_feather('datasets/phys-raw-lead2-HRV-eda')\n",
    "df_raw.columns"
   ]
  },
  {
   "cell_type": "markdown",
   "metadata": {},
   "source": [
    "### Data checks"
   ]
  },
  {
   "cell_type": "code",
   "execution_count": 5,
   "metadata": {
    "scrolled": true
   },
   "outputs": [
    {
     "data": {
      "text/html": [
       "<div>\n",
       "<style scoped>\n",
       "    .dataframe tbody tr th:only-of-type {\n",
       "        vertical-align: middle;\n",
       "    }\n",
       "\n",
       "    .dataframe tbody tr th {\n",
       "        vertical-align: top;\n",
       "    }\n",
       "\n",
       "    .dataframe thead th {\n",
       "        text-align: right;\n",
       "    }\n",
       "</style>\n",
       "<table border=\"1\" class=\"dataframe\">\n",
       "  <thead>\n",
       "    <tr style=\"text-align: right;\">\n",
       "      <th></th>\n",
       "      <th>AF</th>\n",
       "      <th>Non-AF</th>\n",
       "    </tr>\n",
       "  </thead>\n",
       "  <tbody>\n",
       "    <tr>\n",
       "      <th>count</th>\n",
       "      <td>6201.000000</td>\n",
       "      <td>6201.000000</td>\n",
       "    </tr>\n",
       "    <tr>\n",
       "      <th>mean</th>\n",
       "      <td>0.168037</td>\n",
       "      <td>0.831963</td>\n",
       "    </tr>\n",
       "    <tr>\n",
       "      <th>std</th>\n",
       "      <td>0.373930</td>\n",
       "      <td>0.373930</td>\n",
       "    </tr>\n",
       "    <tr>\n",
       "      <th>min</th>\n",
       "      <td>0.000000</td>\n",
       "      <td>0.000000</td>\n",
       "    </tr>\n",
       "    <tr>\n",
       "      <th>25%</th>\n",
       "      <td>0.000000</td>\n",
       "      <td>1.000000</td>\n",
       "    </tr>\n",
       "    <tr>\n",
       "      <th>50%</th>\n",
       "      <td>0.000000</td>\n",
       "      <td>1.000000</td>\n",
       "    </tr>\n",
       "    <tr>\n",
       "      <th>75%</th>\n",
       "      <td>0.000000</td>\n",
       "      <td>1.000000</td>\n",
       "    </tr>\n",
       "    <tr>\n",
       "      <th>max</th>\n",
       "      <td>1.000000</td>\n",
       "      <td>1.000000</td>\n",
       "    </tr>\n",
       "  </tbody>\n",
       "</table>\n",
       "</div>"
      ],
      "text/plain": [
       "                AF       Non-AF\n",
       "count  6201.000000  6201.000000\n",
       "mean      0.168037     0.831963\n",
       "std       0.373930     0.373930\n",
       "min       0.000000     0.000000\n",
       "25%       0.000000     1.000000\n",
       "50%       0.000000     1.000000\n",
       "75%       0.000000     1.000000\n",
       "max       1.000000     1.000000"
      ]
     },
     "execution_count": 5,
     "metadata": {},
     "output_type": "execute_result"
    }
   ],
   "source": [
    "labels = pd.get_dummies(df_raw['label'])\n",
    "labels.describe()"
   ]
  },
  {
   "cell_type": "markdown",
   "metadata": {},
   "source": [
    "## Split between Train and Validation Datasets\n",
    "\n",
    "### Training (60%) - Validation (20%) - Evaluation (20%)"
   ]
  },
  {
   "cell_type": "code",
   "execution_count": 6,
   "metadata": {},
   "outputs": [
    {
     "data": {
      "text/plain": [
       "2770    Non-AF\n",
       "3790    Non-AF\n",
       "2277        AF\n",
       "1401    Non-AF\n",
       "6179    Non-AF\n",
       "Name: label, dtype: object"
      ]
     },
     "execution_count": 6,
     "metadata": {},
     "output_type": "execute_result"
    }
   ],
   "source": [
    "y = df_raw['label'].copy()\n",
    "X = df_raw.drop('label', axis=1)\n",
    "X_train, X_test, ytrain, ytest = train_test_split(X, y, test_size=0.4, random_state=42)\n",
    "\n",
    "X_val, X_eval, yval, yeval = train_test_split(X_test, ytest, test_size=0.5, random_state=42)\n",
    "\n",
    "ytrain[:5]"
   ]
  },
  {
   "cell_type": "markdown",
   "metadata": {},
   "source": [
    "### Label encoding\n",
    "'AF' as 1 and 'Non-AF' as 0"
   ]
  },
  {
   "cell_type": "code",
   "execution_count": 7,
   "metadata": {},
   "outputs": [
    {
     "data": {
      "text/plain": [
       "array([[0],\n",
       "       [0],\n",
       "       [1],\n",
       "       [0],\n",
       "       [0]])"
      ]
     },
     "execution_count": 7,
     "metadata": {},
     "output_type": "execute_result"
    }
   ],
   "source": [
    "y_test = label_binarize(ytest, classes=['Non-AF', 'AF'])\n",
    "y_val = label_binarize(yval, classes=['Non-AF', 'AF'])\n",
    "y_train = label_binarize(ytrain, classes=['Non-AF', 'AF'])\n",
    "y_train[:5]"
   ]
  },
  {
   "cell_type": "markdown",
   "metadata": {},
   "source": [
    "## Evaluation Metrics"
   ]
  },
  {
   "cell_type": "markdown",
   "metadata": {},
   "source": [
    "This are the evaluation metrics we are actually interested in."
   ]
  },
  {
   "cell_type": "code",
   "execution_count": 8,
   "metadata": {},
   "outputs": [],
   "source": [
    "res = pd.DataFrame({'model':[], 'auc train (cv)':[], 'auc val':[], 'f2 val':[], 'sensitivity val':[], 'precision val':[]})"
   ]
  },
  {
   "cell_type": "markdown",
   "metadata": {},
   "source": [
    "## Model Experiments"
   ]
  },
  {
   "cell_type": "code",
   "execution_count": 9,
   "metadata": {},
   "outputs": [],
   "source": [
    "models = {\n",
    "        'LDA': LinearDiscriminantAnalysis(),\n",
    "        'Perceptron': MLPClassifier(solver='adam', alpha=1e-5, hidden_layer_sizes=(3, 3), random_state=42, max_iter=100000),\n",
    "        'Logistic Regression': LogisticRegression(max_iter = 2000, n_jobs = 4, random_state=42),\n",
    "        'Random Forest': RandomForestClassifier(n_jobs = 4, random_state=42, class_weight={1: 10}),\n",
    "        'SVC': SVC(random_state=42, class_weight={1: 10}),\n",
    "        'KNNeighbors': KNeighborsClassifier(n_jobs = 4)\n",
    "}\n",
    "\n",
    "#scorer = make_scorer(f1_score, pos_label='AF')"
   ]
  },
  {
   "cell_type": "code",
   "execution_count": null,
   "metadata": {
    "scrolled": false
   },
   "outputs": [],
   "source": [
    "for name, model in models.items():\n",
    "    \n",
    "    # Model training with cross validation\n",
    "    scores = cross_val_score(model, X_train, y_train, cv=10, scoring='roc_auc', n_jobs=4)\n",
    "    model.fit(X_train, y_train.ravel())\n",
    "    \n",
    "    f2 = fbeta_score(y_val, model.predict(X_val), beta=2)\n",
    "    roc = roc_auc_score(y_val, model.predict(X_val))\n",
    "    recall = recall_score(y_val, model.predict(X_val))\n",
    "    precision = precision_score(y_val, model.predict(X_val))\n",
    "    \n",
    "    # Save the results to a dataframe\n",
    "    res = res.append({'model': f\"{name}\", 'auc train (cv)': scores.mean(), 'auc val': roc, 'f2 val': f2, 'sensitivity val': recall, 'precision val': precision}, ignore_index=True)\n",
    "    \n",
    "    # Experiment Tracking\n",
    "    with mlflow.start_run(experiment_id=experiment_id):\n",
    "        mlflow.log_param(\"model\", f\"{name}\")\n",
    "        mlflow.log_param(\"features\", \"None\")\n",
    "        mlflow.log_param(\"lead\", lead)\n",
    "        mlflow.log_param(\"columns\", list(X.columns))\n",
    "        mlflow.log_param(\"number columns\", len(list(X_train.columns)))\n",
    "        mlflow.log_metric(\"auc\", scores.mean())\n",
    "        \n",
    "        tracking_url_type_store = urlparse(mlflow.get_tracking_uri()).scheme\n",
    "\n",
    "        # Model registry\n",
    "        if tracking_url_type_store != \"file\":\n",
    "\n",
    "            mlflow.sklearn.log_model(model, \"model\", registered_model_name=\"AF_Classifier\")\n",
    "        \n",
    "        else:\n",
    "            \n",
    "            mlflow.sklearn.log_model(model, \"model\")"
   ]
  },
  {
   "cell_type": "code",
   "execution_count": null,
   "metadata": {},
   "outputs": [],
   "source": [
    "res.sort_values('auc train (cv)', ascending=False)"
   ]
  },
  {
   "cell_type": "markdown",
   "metadata": {},
   "source": [
    "### Let's try some Scalers"
   ]
  },
  {
   "cell_type": "code",
   "execution_count": null,
   "metadata": {},
   "outputs": [],
   "source": [
    "scal = StandardScaler()\n",
    "df_normal = scal.fit_transform(df_raw.drop('label', axis=1))\n",
    "cols = df_raw.columns\n",
    "cols = cols.drop('label')\n",
    "df_normal = pd.DataFrame(df_normal, columns=cols)\n",
    "\n",
    "plt.figure(figsize=(16,6))\n",
    "sns.boxplot(data=df_normal)\n",
    "plt.tight_layout()\n",
    "plt.show()"
   ]
  },
  {
   "cell_type": "code",
   "execution_count": null,
   "metadata": {},
   "outputs": [],
   "source": [
    "scal = StandardScaler()\n",
    "xtrain_scal = scal.fit_transform(X_train)\n",
    "xval_scal = scal.transform(X_val)"
   ]
  },
  {
   "cell_type": "code",
   "execution_count": null,
   "metadata": {},
   "outputs": [],
   "source": [
    "for name, model in models.items():\n",
    "    scores = cross_val_score(model, xtrain_scal, y_train, cv=10, scoring='roc_auc', n_jobs=4)\n",
    "    model.fit(xtrain_scal, y_train.ravel())\n",
    "    \n",
    "    f2 = fbeta_score(y_val, model.predict(xval_scal), beta=2)\n",
    "    roc = roc_auc_score(y_val, model.predict(xval_scal))\n",
    "    recall = recall_score(y_val, model.predict(xval_scal))\n",
    "    precision = precision_score(y_val, model.predict(xval_scal))\n",
    "    \n",
    "    res = res.append({'model': f\"{name} Scal\", 'auc train (cv)': scores.mean(), 'auc val': roc, 'f2 val': f2, 'sensitivity val': recall, 'precision val': precision}, ignore_index=True)\n",
    "    \n",
    "    # Experiment Tracking\n",
    "    with mlflow.start_run(experiment_id=experiment_id):\n",
    "        mlflow.log_param(\"model\", f\"{name}\")\n",
    "        mlflow.log_param(\"features\", \"Standard Scaler\")\n",
    "        mlflow.log_param(\"lead\", lead)\n",
    "        mlflow.log_param(\"columns\", list(X.columns))\n",
    "        mlflow.log_param(\"number columns\", len(list(X_train.columns)))\n",
    "        mlflow.log_metric(\"auc\", scores.mean())\n",
    "        \n",
    "        tracking_url_type_store = urlparse(mlflow.get_tracking_uri()).scheme\n",
    "\n",
    "        if tracking_url_type_store != \"file\":\n",
    "\n",
    "            mlflow.sklearn.log_model(model, \"model\", registered_model_name=\"AF_Classifier\")\n",
    "        \n",
    "        else:\n",
    "            \n",
    "            mlflow.sklearn.log_model(model, \"model\")"
   ]
  },
  {
   "cell_type": "code",
   "execution_count": null,
   "metadata": {},
   "outputs": [],
   "source": [
    "res.sort_values('auc train (cv)', ascending=False)"
   ]
  },
  {
   "cell_type": "markdown",
   "metadata": {},
   "source": [
    "### Principal Component Analysis"
   ]
  },
  {
   "cell_type": "code",
   "execution_count": null,
   "metadata": {},
   "outputs": [],
   "source": [
    "n_comps = 5  # +90% explained variance\n",
    "\n",
    "pca = PCA(n_components = n_comps)\n",
    "\n",
    "train_pca = pca.fit_transform(xtrain_scal)\n",
    "\n",
    "val_pca = pca.transform(xval_scal)"
   ]
  },
  {
   "cell_type": "code",
   "execution_count": null,
   "metadata": {},
   "outputs": [],
   "source": [
    "xpca = pd.DataFrame(train_pca)\n",
    "\n",
    "sns.set_context(\"talk\", font_scale=0.7)\n",
    "plt.figure(figsize=(15,6))\n",
    "plt.scatter(xpca.loc[(y_train == 1).ravel(),0],xpca.loc[(y_train == 1).ravel(),1], alpha = 0.3, label = 'AF')\n",
    "plt.scatter(xpca.loc[(y_train == 0).ravel(),0],xpca.loc[(y_train == 0).ravel(),1], alpha = 0.3, label = 'Non-AF')\n",
    "plt.xlabel('Principal Component 1')\n",
    "plt.ylabel('Principal Component 2')\n",
    "plt.title('Principal Component Analysis before feature selection')\n",
    "plt.legend(loc='upper right')\n",
    "plt.show()"
   ]
  },
  {
   "cell_type": "code",
   "execution_count": null,
   "metadata": {
    "scrolled": false
   },
   "outputs": [],
   "source": [
    "for name, model in models.items():\n",
    "    scores = cross_val_score(model, train_pca, y_train, cv=10, scoring='roc_auc', n_jobs=4)\n",
    "    \n",
    "    model.fit(train_pca, y_train.ravel())\n",
    "    \n",
    "    f2 = fbeta_score(y_val, model.predict(val_pca), beta=2)\n",
    "    roc = roc_auc_score(y_val, model.predict(val_pca))\n",
    "    recall = recall_score(y_val, model.predict(val_pca))\n",
    "    precision = precision_score(y_val, model.predict(val_pca))\n",
    "    \n",
    "    res = res.append({'model': f\"{name} PCA\", 'auc train (cv)': scores.mean(), 'auc val': roc, 'f2 val': f2, 'sensitivity val': recall, 'precision val': precision}, ignore_index=True)\n",
    "    \n",
    "    # Experiment Tracking\n",
    "    with mlflow.start_run(experiment_id=experiment_id):\n",
    "        mlflow.log_param(\"model\", f\"{name}\")\n",
    "        mlflow.log_param(\"features\", \"PCA\")\n",
    "        mlflow.log_param(\"lead\", lead)\n",
    "        mlflow.log_param(\"columns\", list(X.columns))\n",
    "        mlflow.log_param(\"number columns\", len(list(X_train.columns)))\n",
    "        mlflow.log_metric(\"auc\", scores.mean())\n",
    "        \n",
    "        tracking_url_type_store = urlparse(mlflow.get_tracking_uri()).scheme\n",
    "\n",
    "        if tracking_url_type_store != \"file\":\n",
    "\n",
    "            mlflow.sklearn.log_model(model, \"model\", registered_model_name=\"AF_Classifier\")\n",
    "        \n",
    "        else:\n",
    "            \n",
    "            mlflow.sklearn.log_model(model, \"model\")"
   ]
  },
  {
   "cell_type": "code",
   "execution_count": null,
   "metadata": {},
   "outputs": [],
   "source": [
    "res.sort_values('auc val', ascending=False)"
   ]
  }
 ],
 "metadata": {
  "kernelspec": {
   "display_name": "Python 3",
   "language": "python",
   "name": "python3"
  },
  "language_info": {
   "codemirror_mode": {
    "name": "ipython",
    "version": 3
   },
   "file_extension": ".py",
   "mimetype": "text/x-python",
   "name": "python",
   "nbconvert_exporter": "python",
   "pygments_lexer": "ipython3",
   "version": "3.6.11"
  }
 },
 "nbformat": 4,
 "nbformat_minor": 4
}
